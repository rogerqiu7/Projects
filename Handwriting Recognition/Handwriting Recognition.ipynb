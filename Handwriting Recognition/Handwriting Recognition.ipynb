{
 "cells": [
  {
   "attachments": {},
   "cell_type": "markdown",
   "metadata": {},
   "source": [
    "# Handwriting Recognition using K-Means clustering\n",
    "##### Roger Qiu - 6/17/2022\n",
    "### Introduction\n",
    "Unsupervised Learning is how we find patterns and structure in unlabeled data. Clustering is the most well-known unsupervised learning technique. It finds structure in unlabeled data by identifying similar groups, or clusters. The goal of clustering is to separate data so that data similar to one another are in the same group, while data different from one another are in different groups. So two questions arise:\n",
    "- How many groups do we choose?\n",
    "- How do we define similarity?\n",
    "\n",
    "k-means is the most popular and well-known clustering algorithm, and it tries to address these two questions.\n",
    "- The “k” refers to the number of clusters (groups) we expect to find in a dataset.\n",
    "- The “Means” refers to the average distance of data to each cluster center, also known as the centroid, which we are trying to minimize.\n",
    "\n",
    "In this project, we will use K-means clustering to cluster images of handwritten digits. By clustering all the images along with their associated digit, we will train our model to predict handwriting of digits. We will finally test this model by creating our own image and having the model predict the digit.\n",
    "\n",
    "### The Data\n",
    "To begin, let's load and inspect our data from the digits database from the sklearn library. Let's inspect the database description, the data we're given and how it is formatted."
   ]
  },
  {
   "cell_type": "code",
   "execution_count": 62,
   "metadata": {},
   "outputs": [
    {
     "name": "stdout",
     "output_type": "stream",
     "text": [
      ".. _digits_dataset:\n",
      "\n",
      "Optical recognition of handwritten digits dataset\n",
      "--------------------------------------------------\n",
      "\n",
      "**Data Set Characteristics:**\n",
      "\n",
      "    :Number of Instances: 1797\n",
      "    :Number of Attributes: 64\n",
      "    :Attribute Information: 8x8 image of integer pixels in the range 0..16.\n",
      "    :Missing Attribute Values: None\n",
      "    :Creator: E. Alpaydin (alpaydin '@' boun.edu.tr)\n",
      "    :Date: July; 1998\n",
      "\n",
      "This is a copy of the test set of the UCI ML hand-written digits datasets\n",
      "https://archive.ics.uci.edu/ml/datasets/Optical+Recognition+of+Handwritten+Digits\n",
      "\n",
      "The data set contains images of hand-written digits: 10 classes where\n",
      "each class refers to a digit.\n",
      "\n",
      "Preprocessing programs made available by NIST were used to extract\n",
      "normalized bitmaps of handwritten digits from a preprinted form. From a\n",
      "total of 43 people, 30 contributed to the training set and different 13\n",
      "to the test set. 32x32 bitmaps are divided into nonoverlapping blocks of\n",
      "4x4 and the number of on pixels are counted in each block. This generates\n",
      "an input matrix of 8x8 where each element is an integer in the range\n",
      "0..16. This reduces dimensionality and gives invariance to small\n",
      "distortions.\n",
      "\n",
      "For info on NIST preprocessing routines, see M. D. Garris, J. L. Blue, G.\n",
      "T. Candela, D. L. Dimmick, J. Geist, P. J. Grother, S. A. Janet, and C.\n",
      "L. Wilson, NIST Form-Based Handprint Recognition System, NISTIR 5469,\n",
      "1994.\n",
      "\n",
      ".. topic:: References\n",
      "\n",
      "  - C. Kaynak (1995) Methods of Combining Multiple Classifiers and Their\n",
      "    Applications to Handwritten Digit Recognition, MSc Thesis, Institute of\n",
      "    Graduate Studies in Science and Engineering, Bogazici University.\n",
      "  - E. Alpaydin, C. Kaynak (1998) Cascading Classifiers, Kybernetika.\n",
      "  - Ken Tang and Ponnuthurai N. Suganthan and Xi Yao and A. Kai Qin.\n",
      "    Linear dimensionalityreduction using relevance weighted LDA. School of\n",
      "    Electrical and Electronic Engineering Nanyang Technological University.\n",
      "    2005.\n",
      "  - Claudio Gentile. A New Approximate Maximal Margin Classification\n",
      "    Algorithm. NIPS. 2000.\n",
      "\n",
      "data is: \n",
      "[[ 0.  0.  5. ...  0.  0.  0.]\n",
      " [ 0.  0.  0. ... 10.  0.  0.]\n",
      " [ 0.  0.  0. ... 16.  9.  0.]\n",
      " ...\n",
      " [ 0.  0.  1. ...  6.  0.  0.]\n",
      " [ 0.  0.  2. ... 12.  0.  0.]\n",
      " [ 0.  0. 10. ... 12.  1.  0.]]\n",
      "targets are :\n",
      "[0 1 2 ... 8 9 8]\n"
     ]
    },
    {
     "data": {
      "image/png": "[encoded data removed]",
      "text/plain": [
       "<Figure size 480x480 with 1 Axes>"
      ]
     },
     "metadata": {},
     "output_type": "display_data"
    },
    {
     "name": "stdout",
     "output_type": "stream",
     "text": [
      " digits for this picture are :\n",
      "[[ 0.  0.  0.  2. 13.  0.  0.  0.]\n",
      " [ 0.  0.  0.  8. 15.  0.  0.  0.]\n",
      " [ 0.  0.  5. 16.  5.  2.  0.  0.]\n",
      " [ 0.  0. 15. 12.  1. 16.  4.  0.]\n",
      " [ 0.  4. 16.  2.  9. 16.  8.  0.]\n",
      " [ 0.  0. 10. 14. 16. 16.  4.  0.]\n",
      " [ 0.  0.  0.  0. 13.  8.  0.  0.]\n",
      " [ 0.  0.  0.  0. 13.  6.  0.  0.]]\n",
      " The number is :\n",
      "4\n"
     ]
    }
   ],
   "source": [
    "# load libraries\n",
    "import numpy as np\n",
    "from matplotlib import pyplot as plt\n",
    "from sklearn import datasets\n",
    "from sklearn.cluster import KMeans\n",
    "\n",
    "# give us a dataset of hand written digits\n",
    "digits = datasets.load_digits()\n",
    "\n",
    "# open description of digits\n",
    "print(digits.DESCR)\n",
    "# :Number of Instances: 1797\n",
    "# :Number of Attributes: 64\n",
    "# :Attribute Information: 8x8 image of integer pixels in the range 0..16.\n",
    "# 0 is white pixel, 16 is black\n",
    "\n",
    "print(\"data is: \")\n",
    "print(digits.data)\n",
    "# list of arrays that is the data\n",
    "\n",
    "print(\"targets are :\")\n",
    "print(digits.target)\n",
    "# list of actual digits which each array is supposed to represent\n",
    "\n",
    "# visualize one of the digits using matshow which displays an array as matrix using a 2d array\n",
    "# lets print the 100th data set\n",
    "plt.matshow(digits.images[100])\n",
    "plt.show()\n",
    "# appears to be a picture of the number 4\n",
    "\n",
    "# prints the digits of image 100\n",
    "print(\" digits for this picture are :\")\n",
    "print(digits.images[100])\n",
    "# larger numbers seem to be lighter areas on the image\n",
    "\n",
    "# prints the number of image 100\n",
    "print(\" The number is :\")\n",
    "print(digits.target[100])\n",
    "# image 100 is in fact a picture of the number 4"
   ]
  },
  {
   "attachments": {},
   "cell_type": "markdown",
   "metadata": {},
   "source": [
    "### Creating the K-Means model\n",
    "So now that we have our data (the matrix of numbers for the heatmap) the problem we’re trying to solve is to classify these grayscale images of handwritten digits (8 × 8 pixels) into their labels, the 10 categories (0 through 9). Now that we have and understand our data, lets fit it into a k-means model and display each digit from each of the 10 average clustered centers."
   ]
  },
  {
   "cell_type": "code",
   "execution_count": 63,
   "metadata": {},
   "outputs": [
    {
     "data": {
      "image/png": "[encoded data removed]",
      "text/plain": [
       "<Figure size 800x300 with 10 Axes>"
      ]
     },
     "metadata": {},
     "output_type": "display_data"
    }
   ],
   "source": [
    "# 10 different digits here (0 to 9) means there should be 10 different clusters, so k (num_clusters) is 10\n",
    "# The random_state will ensure that every time you run your code, the model is built in the same way.\n",
    "model = KMeans(n_clusters=10)\n",
    "\n",
    "# fit data of all the arrays to model to form clusters\n",
    "model.fit(digits.data)\n",
    "\n",
    "# start creating a multi chart to visualize centroids or how these arrays are clustered, start by adding a figure of size 8x3\n",
    "fig = plt.figure(figsize=(8,3))\n",
    "fig.suptitle(\"Cluster Center Images\")\n",
    "\n",
    "# for loop to display each of the cluster centers\n",
    "for i in range(10):\n",
    " \n",
    "  # Initialize subplots in a grid of 2X5, at i+1th position\n",
    "  ax = fig.add_subplot(2, 5, 1 + i)\n",
    " \n",
    "  # Display each image of the model at i location\n",
    "  ax.imshow(model.cluster_centers_[i].reshape(8, 8))\n",
    "\n",
    "plt.show()\n",
    "# appears to be the images of the number 0 to 9"
   ]
  },
  {
   "attachments": {},
   "cell_type": "markdown",
   "metadata": {},
   "source": [
    "### Evaluate and Test the model\n",
    "\n",
    "Finally let's test the model we built, let's write our own 4 numbers and use the array to input into the model and see what the model thinks we wrote. We can acquire the array for 4 numbers written on this website: https://www.codecademy.com/paths/machine-learning-fundamentals/tracks/mle-unsupervised-learning-algorithms-i/modules/mle-k-means-clustering/projects/clustering. Then in right panel: http://localhost:8000/test.html. \n",
    "\n",
    "Well use the predict function to take the new samples and output the new labels. Before we can find our results, since the clustered images are not indexed in order as we can see from above we will need to use for loop to match clustered handwriting images and their numbers with correct index."
   ]
  },
  {
   "cell_type": "code",
   "execution_count": 75,
   "metadata": {},
   "outputs": [
    {
     "name": "stdout",
     "output_type": "stream",
     "text": [
      "new labels: \n",
      "[9 7 3 7]\n",
      " Is your number?: \n",
      "1595"
     ]
    }
   ],
   "source": [
    "# write 4 digits and click get array, I used 1996\n",
    "# prints out array that has digits data\n",
    "\n",
    "# (1996):\n",
    "# pass data as new samples into kmeans algorithm\n",
    "new_samples = np.array([\n",
    "[0.00,0.00,0.00,0.00,0.00,0.00,0.00,0.00,0.00,0.00,0.00,2.79,4.33,0.00,0.00,0.00,0.00,0.00,0.30,6.32,7.08,0.00,0.00,0.00,0.00,0.00,0.00,0.00,7.61,0.00,0.00,0.00,0.00,0.00,0.00,0.00,7.61,0.00,0.00,0.00,0.00,0.00,0.00,0.38,7.46,0.00,0.00,0.00,0.00,0.00,0.00,0.76,6.85,0.00,0.00,0.00,0.00,0.00,0.00,0.23,3.58,0.00,0.00,0.00],\n",
    "[0.00,3.57,7.16,7.61,3.95,0.00,0.00,0.00,2.80,6.70,1.06,1.13,7.07,0.68,0.00,0.00,4.57,3.12,0.00,0.00,5.93,2.28,0.00,0.00,3.95,5.79,3.73,2.59,7.08,2.12,0.00,0.00,0.37,2.81,3.95,5.03,7.39,0.76,0.00,0.00,0.00,0.00,0.00,0.00,6.85,0.76,0.00,0.00,0.00,0.76,4.71,0.22,7.16,0.53,0.00,0.00,0.00,0.15,5.47,5.61,7.16,0.00,0.00,0.00],\n",
    "[0.00,0.45,5.78,7.39,5.63,0.60,0.00,0.00,0.00,3.80,4.94,0.60,4.87,4.71,0.00,0.00,0.00,5.25,2.43,0.08,2.64,7.46,0.00,0.00,0.00,3.72,7.39,7.62,6.78,7.62,0.00,0.00,0.00,0.00,0.00,0.00,0.00,7.62,0.00,0.00,0.00,0.00,0.00,0.00,0.00,7.61,0.00,0.00,0.00,3.27,0.98,0.00,2.80,6.92,0.00,0.00,0.00,4.16,6.23,5.62,6.69,1.81,0.00,0.00],\n",
    "[0.00,0.00,2.26,7.23,2.20,0.00,0.00,0.00,0.00,0.00,6.55,2.12,0.00,0.00,0.00,0.00,0.00,0.98,7.62,3.88,0.75,0.00,0.00,0.00,0.00,1.75,6.55,4.63,6.61,0.30,0.00,0.00,0.00,2.28,5.33,0.00,5.86,2.21,0.00,0.00,0.00,2.28,5.93,0.00,5.33,2.28,0.00,0.00,0.00,0.37,6.31,4.55,6.09,1.90,0.00,0.00,0.00,0.00,0.74,4.57,5.93,0.53,0.00,0.00]\n",
    "])\n",
    "\n",
    "# use predict function to predict new labels for 4 digits given our 4 samples\n",
    "new_labels = model.predict(new_samples)\n",
    "\n",
    "print(\"new labels: \")\n",
    "print(new_labels)\n",
    "\n",
    "# we have 9737 but from the earlier picture of all images, it seems that:\n",
    "# Index 0 looks like 6\n",
    "# Index 1 looks like 8\n",
    "# Index 2 looks like 0\n",
    "# Index 3 looks like 9\n",
    "# Index 4 looks like 7\n",
    "# Index 5 looks like 4\n",
    "# Index 6 looks like 2\n",
    "# Index 7 looks like 5\n",
    "# Index 8 looks like 3\n",
    "# Index 9 looks like 1\n",
    "\n",
    "# for each number from 0 to 4: \n",
    "# if the predicted new label is this number, print the corrected number out, and move to next number\n",
    "# print(x, end='') so that all the digits are printed on the same line.\n",
    "print(\" Is your number?: \")\n",
    "\n",
    "for i in range(len(new_labels)):\n",
    "  if new_labels[i] == 0:\n",
    "    print(6, end='')\n",
    "  elif new_labels[i] == 1:\n",
    "    print(8, end='')\n",
    "  elif new_labels[i] == 2:\n",
    "    print(0, end='')\n",
    "  elif new_labels[i] == 3:\n",
    "    print(9, end='')\n",
    "  elif new_labels[i] == 4:\n",
    "    print(7, end='')\n",
    "  elif new_labels[i] == 5:\n",
    "    print(4, end='')\n",
    "  elif new_labels[i] == 6:\n",
    "    print(2, end='')\n",
    "  elif new_labels[i] == 7:\n",
    "    print(5, end='')\n",
    "  elif new_labels[i] == 8:\n",
    "    print(3, end='')\n",
    "  elif new_labels[i] == 9:\n",
    "    print(1, end='')"
   ]
  },
  {
   "attachments": {},
   "cell_type": "markdown",
   "metadata": {},
   "source": [
    "### Conclusion\n",
    "The number from the model was 1595, you can see that this is visually close to 1996 but my handwriting needs to match the inputted handwriting more. In this project, we were able use K-means clustering and scikit-learn to cluster images of handwritten digits into their 10 respective clusters, each representing a digit. We then created our own image array and had the model predict the digit."
   ]
  }
 ],
 "metadata": {
  "kernelspec": {
   "display_name": "base",
   "language": "python",
   "name": "python3"
  },
  "language_info": {
   "codemirror_mode": {
    "name": "ipython",
    "version": 3
   },
   "file_extension": ".py",
   "mimetype": "text/x-python",
   "name": "python",
   "nbconvert_exporter": "python",
   "pygments_lexer": "ipython3",
   "version": "3.9.15"
  },
  "orig_nbformat": 4,
  "vscode": {
   "interpreter": {
    "hash": "9a097ae69bf4a985c19c38f06c65fd2204cb6f6ce7e827302b93de2cb73475cc"
   }
  }
 },
 "nbformat": 4,
 "nbformat_minor": 2
}
