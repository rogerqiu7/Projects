{
 "cells": [
  {
   "attachments": {},
   "cell_type": "markdown",
   "metadata": {},
   "source": [
    "# Life Expectancy Deep Learning Model using TensorFlow\n",
    "##### Roger Qiu - 12/27/2022\n",
    "### Introduction\n",
    "In this project, we will design, train, and evaluate a neural network model performing the task of using regression to predict the life expectancy of countries. We will build this using a Keras sequential model from the TensorFlow library. Ideally, this data will eventually inform countries concerning which factors to change in order to improve the life expectancy of their populations. If we can predict life expectancy well given all the factors, this is a good sign that there are some important patterns in the data. \n",
    "\n",
    "### Method\n",
    "Our deep learning model uses layers of interconnected nodes that process and refine data for a prediction. These nodes follow these steps:\n",
    "1. Takes values as inputs from (the dataset).\n",
    "2. Weights these values.\n",
    "3. Sums all the weighted values.\n",
    "4. Activates when the sum exceeds a threshold (0 in our case).\n",
    "\n",
    "Then, there is the process of backpropagation where the predictions are compared to the true targets and the loss score is used in an optimizer that adjusts the weights and biases of each of the nodes to refine and optimize the prediction. Together, forward propagation and backpropagation allow a neural network to make predictions and correct for any errors accordingly. Over time, we will visualize how our algorithm becomes gradually more accurate as our loss score decreases over every run."
   ]
  },
  {
   "attachments": {},
   "cell_type": "markdown",
   "metadata": {},
   "source": [
    "### Data loading and Analysis\n",
    "This dataset covers a variety of indicators for all countries from 2000 to 2015 including: immunization factors, mortality factors, economic factors, social factors, and other health-related factors. \n",
    "\n",
    "To begin, let's load and inspect our data from the csv file. Then let's drop any columns that are irrelevant to our analysis. Finally let's split the dataset into our features (independent variables) and labels (dependent variable)."
   ]
  },
  {
   "cell_type": "code",
   "execution_count": 1,
   "metadata": {},
   "outputs": [
    {
     "name": "stdout",
     "output_type": "stream",
     "text": [
      "<class 'pandas.core.frame.DataFrame'>\n",
      "RangeIndex: 2938 entries, 0 to 2937\n",
      "Data columns (total 22 columns):\n",
      " #   Column                           Non-Null Count  Dtype  \n",
      "---  ------                           --------------  -----  \n",
      " 0   Country                          2938 non-null   object \n",
      " 1   Year                             2938 non-null   int64  \n",
      " 2   Status                           2938 non-null   object \n",
      " 3   Adult Mortality                  2938 non-null   int64  \n",
      " 4   infant deaths                    2938 non-null   int64  \n",
      " 5   Alcohol                          2938 non-null   float64\n",
      " 6   percentage expenditure           2938 non-null   float64\n",
      " 7   Hepatitis B                      2938 non-null   int64  \n",
      " 8   Measles                          2938 non-null   int64  \n",
      " 9    BMI                             2938 non-null   float64\n",
      " 10  under-five deaths                2938 non-null   int64  \n",
      " 11  Polio                            2938 non-null   int64  \n",
      " 12  Total expenditure                2938 non-null   float64\n",
      " 13  Diphtheria                       2938 non-null   int64  \n",
      " 14   HIV/AIDS                        2938 non-null   float64\n",
      " 15  GDP                              2938 non-null   float64\n",
      " 16  Population                       2938 non-null   float64\n",
      " 17   thinness  1-19 years            2938 non-null   float64\n",
      " 18   thinness 5-9 years              2938 non-null   float64\n",
      " 19  Income composition of resources  2938 non-null   float64\n",
      " 20  Schooling                        2938 non-null   float64\n",
      " 21  Life expectancy                  2938 non-null   float64\n",
      "dtypes: float64(12), int64(8), object(2)\n",
      "memory usage: 505.1+ KB\n",
      "None\n",
      "       Country  Year      Status  Adult Mortality  infant deaths  Alcohol  \\\n",
      "0  Afghanistan  2015  Developing              263             62     0.01   \n",
      "1  Afghanistan  2014  Developing              271             64     0.01   \n",
      "2  Afghanistan  2013  Developing              268             66     0.01   \n",
      "3  Afghanistan  2012  Developing              272             69     0.01   \n",
      "4  Afghanistan  2011  Developing              275             71     0.01   \n",
      "\n",
      "   percentage expenditure  Hepatitis B  Measles    BMI   ...  \\\n",
      "0               71.279624           65      1154   19.1  ...   \n",
      "1               73.523582           62       492   18.6  ...   \n",
      "2               73.219243           64       430   18.1  ...   \n",
      "3               78.184215           67      2787   17.6  ...   \n",
      "4                7.097109           68      3013   17.2  ...   \n",
      "\n",
      "   Total expenditure  Diphtheria    HIV/AIDS         GDP  Population  \\\n",
      "0               8.16           65        0.1  584.259210  33736494.0   \n",
      "1               8.18           62        0.1  612.696514    327582.0   \n",
      "2               8.13           64        0.1  631.744976  31731688.0   \n",
      "3               8.52           67        0.1  669.959000   3696958.0   \n",
      "4               7.87           68        0.1   63.537231   2978599.0   \n",
      "\n",
      "    thinness  1-19 years   thinness 5-9 years  \\\n",
      "0                   17.2                 17.3   \n",
      "1                   17.5                 17.5   \n",
      "2                   17.7                 17.7   \n",
      "3                   17.9                 18.0   \n",
      "4                   18.2                 18.2   \n",
      "\n",
      "   Income composition of resources  Schooling  Life expectancy  \n",
      "0                            0.479       10.1             65.0  \n",
      "1                            0.476       10.0             59.9  \n",
      "2                            0.470        9.9             59.9  \n",
      "3                            0.463        9.8             59.5  \n",
      "4                            0.454        9.5             59.2  \n",
      "\n",
      "[5 rows x 22 columns]\n",
      "0    65.0\n",
      "1    59.9\n",
      "2    59.9\n",
      "3    59.5\n",
      "4    59.2\n",
      "Name: Life expectancy, dtype: float64\n"
     ]
    }
   ],
   "source": [
    "# import libraries\n",
    "import pandas as pd\n",
    "from sklearn.model_selection import train_test_split\n",
    "from sklearn.compose import ColumnTransformer\n",
    "from sklearn.preprocessing import StandardScaler\n",
    "from tensorflow.python.keras.models import Sequential\n",
    "from tensorflow.python.keras.layers import InputLayer\n",
    "from tensorflow.python.keras.layers import Dense\n",
    "from tensorflow.python.keras.optimizer_v2.adam import Adam\n",
    "import matplotlib.pyplot as plt\n",
    "\n",
    "# load the data\n",
    "df = pd.read_csv('life_expectancy.csv', encoding='latin-1')\n",
    "\n",
    "# inspect the data\n",
    "print(df.info())\n",
    "print(df.head())\n",
    "\n",
    "# drop country column, we want to learn a general pattern for all the countries, and not only those dependent on specific countries.\n",
    "df = df.drop(['Country'], axis = 1)\n",
    "\n",
    "# split life expectancy field into a separate table as labels\n",
    "labels = df.iloc[:, -1]\n",
    "print(labels.head())\n",
    "\n",
    "# split the features into a separate table as features\n",
    "features = df.iloc[:, 0:-1]"
   ]
  },
  {
   "attachments": {},
   "cell_type": "markdown",
   "metadata": {},
   "source": [
    "### Data Preprocessing\n",
    "Now that we have our labels and features tables, we need to split each of them into a training and testing set. We do this because a model that performs well on its training data doesn’t mean it will perform well on data it has never seen or the testing data as what we care about is the model’s performance on new data\n",
    "\n",
    "After splitting our data, we need to our values in a way that the model understands. To do this, they need to become all numerical values then standardized on a scale of -1 to 1. Because we can’t feed lists of integers into a neural network, our tables will be turned into tensors (an array of matrices)."
   ]
  },
  {
   "cell_type": "code",
   "execution_count": 2,
   "metadata": {},
   "outputs": [
    {
     "name": "stdout",
     "output_type": "stream",
     "text": [
      "   Year  Adult Mortality  infant deaths  Alcohol  percentage expenditure  \\\n",
      "0  2015              263             62     0.01               71.279624   \n",
      "1  2014              271             64     0.01               73.523582   \n",
      "2  2013              268             66     0.01               73.219243   \n",
      "3  2012              272             69     0.01               78.184215   \n",
      "4  2011              275             71     0.01                7.097109   \n",
      "\n",
      "   Hepatitis B  Measles    BMI   under-five deaths   Polio  ...  Diphtheria   \\\n",
      "0           65      1154   19.1                  83      6  ...           65   \n",
      "1           62       492   18.6                  86     58  ...           62   \n",
      "2           64       430   18.1                  89     62  ...           64   \n",
      "3           67      2787   17.6                  93     67  ...           67   \n",
      "4           68      3013   17.2                  97     68  ...           68   \n",
      "\n",
      "    HIV/AIDS         GDP  Population   thinness  1-19 years  \\\n",
      "0        0.1  584.259210  33736494.0                   17.2   \n",
      "1        0.1  612.696514    327582.0                   17.5   \n",
      "2        0.1  631.744976  31731688.0                   17.7   \n",
      "3        0.1  669.959000   3696958.0                   17.9   \n",
      "4        0.1   63.537231   2978599.0                   18.2   \n",
      "\n",
      "    thinness 5-9 years  Income composition of resources  Schooling  \\\n",
      "0                 17.3                            0.479       10.1   \n",
      "1                 17.5                            0.476       10.0   \n",
      "2                 17.7                            0.470        9.9   \n",
      "3                 18.0                            0.463        9.8   \n",
      "4                 18.2                            0.454        9.5   \n",
      "\n",
      "   Status_Developed  Status_Developing  \n",
      "0                 0                  1  \n",
      "1                 0                  1  \n",
      "2                 0                  1  \n",
      "3                 0                  1  \n",
      "4                 0                  1  \n",
      "\n",
      "[5 rows x 21 columns]\n",
      "features_train shape is: (2350, 21)\n",
      "labels_train shape is: (2350,)\n",
      "features_test shape is: (588, 21)\n",
      "labels_test shape is: (588,)\n",
      "[[-0.11655742 -0.31789671 -0.25751384 ... -0.04397277  0.\n",
      "   1.        ]\n",
      " [-1.41779229 -0.10996316 -0.25751384 ... -0.32060097  0.\n",
      "   1.        ]\n",
      " [ 0.75093249 -0.18194016 -0.25751384 ...  0.2633919   0.\n",
      "   1.        ]\n",
      " ...\n",
      " [-0.11655742  0.8017455  -0.1054732  ... -1.1197491   0.\n",
      "   1.        ]\n",
      " [-0.98404733 -0.74975871 -0.23962671 ...  1.03180357  1.\n",
      "   0.        ]\n",
      " [-0.55030238 -1.0536616  -0.19490887 ... -2.0418431   0.\n",
      "   1.        ]]\n"
     ]
    }
   ],
   "source": [
    "# convert categorical fields (development status) in features to numerical (binary) using one-hot-encoding\n",
    "features = pd.get_dummies(features)\n",
    "\n",
    "# view new features table\n",
    "print(features.head()) # we can see 2 columns for development status now.\n",
    "\n",
    "# split data into training and testing sets \n",
    "features_train, features_test, labels_train, labels_test = train_test_split(features, labels, test_size = 0.2, random_state=42)\n",
    "\n",
    "# view shape of split datasets\n",
    "print(f'features_train shape is: {features_train.shape}')\n",
    "print(f'labels_train shape is: {labels_train.shape}')\n",
    "print(f'features_test shape is: {features_test.shape}')\n",
    "print(f'labels_test shape is: {labels_test.shape}')\n",
    "\n",
    "# now we need to scale our data, begin by only selecting numerical fields, removing status, as numerical columns\n",
    "numerical_features = features.select_dtypes(include=['float64', 'int64'])\n",
    "numerical_columns = numerical_features.columns\n",
    "\n",
    "# scale numerical data using standard scaler, pass through the non numerical columns\n",
    "ct = ColumnTransformer([(\"only numeric\", StandardScaler(), numerical_columns)], remainder='passthrough')\n",
    "\n",
    "# fit the features train and features test data sets through ct to create scaled tables \n",
    "features_train_scaled = ct.fit_transform(features_train)\n",
    "features_test_scaled = ct.transform(features_test)\n",
    "\n",
    "# data set is now a tensor (or an array of matrices) and scaled form -1 to 1\n",
    "print(features_train_scaled)"
   ]
  },
  {
   "attachments": {},
   "cell_type": "markdown",
   "metadata": {},
   "source": [
    "### Building the Model\n",
    "Now that our data is processed and ready to be fit into the model, we are ready to create the model itself. We will build a sequential Keras model which is composed of a single stack of layers, connected sequentially. Our layers will consist of an input layer, a hidden layer and a single output node that will contain our regression prediction value. \n",
    "\n",
    "Our hidden layer also includes an activation function, this function simplifies the output results into values that can be binary or linear depending on the type of function. We use RELU (Rectified Linear Unit) as our activation function to transform the summed weighted input. RELU will output either the value if positive or 0 if 0 or negative. "
   ]
  },
  {
   "cell_type": "code",
   "execution_count": 3,
   "metadata": {},
   "outputs": [
    {
     "name": "stdout",
     "output_type": "stream",
     "text": [
      "Model: \"sequential\"\n",
      "_________________________________________________________________\n",
      "Layer (type)                 Output Shape              Param #   \n",
      "=================================================================\n",
      "dense (Dense)                (None, 64)                1408      \n",
      "_________________________________________________________________\n",
      "dense_1 (Dense)              (None, 1)                 65        \n",
      "=================================================================\n",
      "Total params: 1,473\n",
      "Trainable params: 1,473\n",
      "Non-trainable params: 0\n",
      "_________________________________________________________________\n",
      "None\n",
      "This summary tells us: \n",
      " Layers and their order in the model: we have hidden layers and an output layer \n",
      " Output shape of each layer: 64 hidden layers and 1 output layer \n",
      " the parameters (weights) in each layer: 1408 for hidden layers and 65 for the output layer  \n",
      " and parameters in the total model: 1473\n"
     ]
    }
   ],
   "source": [
    "# create sequential model with Keras\n",
    "my_model = Sequential()\n",
    "\n",
    "# create input layer with shape that matches number of features (columns) in data set (21). The rows are automatically inputted.\n",
    "input = InputLayer(input_shape = (features.shape[1], ))\n",
    "\n",
    "# add the input layer to the model\n",
    "my_model.add(input)\n",
    "\n",
    "# add hidden layers that contains 64 nodes with RELU activation function\n",
    "my_model.add(Dense(64, activation = 'relu'))\n",
    "\n",
    "# add final output layer with just 1 neuron \n",
    "my_model.add(Dense(1))\n",
    "\n",
    "# print summary of the model\n",
    "print(my_model.summary())\n",
    "print('This summary tells us: \\n Layers and their order in the model: we have hidden layers and an output layer \\n Output shape of each layer: 64 hidden layers and 1 output layer \\n the parameters (weights) in each layer: 1408 for hidden layers and 65 for the output layer  \\n and parameters in the total model: 1473')"
   ]
  },
  {
   "attachments": {},
   "cell_type": "markdown",
   "metadata": {},
   "source": [
    "### Compile, fit and evaluate the model\n",
    "Now that our model is built, we first need to compile all of our settings. \n",
    "\n",
    "We want our loss metrics to be MSE (Mean Squared Error) and MAE (Mean Absolute Error). \n",
    "\n",
    "Mean Squared Error is a risk function that measures how close a regression line is to a set of data points. The smaller this amount, the closer the data points are dispersed to our line of best fit.\n",
    "\n",
    "Mean Absolute Error is the magnitude of difference between the prediction of an observation and the true value of that observation. This means that on average, the results are off with our prediction by around that many years of life expectancy.\n",
    "\n",
    "Our optimizer is used to continuously update the weights and parameters and improve our loss metrics. In our case, we use Adam as our optimizer with a learning rate of 0.1.\n",
    "\n",
    "After compiling we can finally train our model by fitting it with the scaled training data and the training labels. Epochs will be set to 10 so the cycle of forward and backpropagation will be run 20 times.\n",
    "\n",
    "We will be able to see the resulting MSE and MAE after all the epochs have been run. \n",
    "\n",
    "We save this as 'History', which is a dictionary that contains data about everything that happened during training. We will use this data later to see it's performance over time."
   ]
  },
  {
   "cell_type": "code",
   "execution_count": 4,
   "metadata": {},
   "outputs": [
    {
     "name": "stdout",
     "output_type": "stream",
     "text": [
      "Epoch 1/10\n",
      "2350/2350 [==============================] - 2s 729us/step - loss: 934.0381 - mae: 14.6369\n",
      "Epoch 2/10\n",
      "2350/2350 [==============================] - 2s 698us/step - loss: 213.3123 - mae: 7.1171\n",
      "Epoch 3/10\n",
      "2350/2350 [==============================] - 2s 706us/step - loss: 116.1274 - mae: 5.7613\n",
      "Epoch 4/10\n",
      "2350/2350 [==============================] - 2s 714us/step - loss: 168.3411 - mae: 5.4629\n",
      "Epoch 5/10\n",
      "2350/2350 [==============================] - 2s 733us/step - loss: 125.5048 - mae: 5.3574\n",
      "Epoch 6/10\n",
      "2350/2350 [==============================] - 2s 750us/step - loss: 32.5952 - mae: 4.0494\n",
      "Epoch 7/10\n",
      "2350/2350 [==============================] - 2s 764us/step - loss: 24.0130 - mae: 3.6213\n",
      "Epoch 8/10\n",
      "2350/2350 [==============================] - 2s 787us/step - loss: 25.2011 - mae: 3.7481\n",
      "Epoch 9/10\n",
      "2350/2350 [==============================] - 2s 802us/step - loss: 23.1290 - mae: 3.7175\n",
      "Epoch 10/10\n",
      "2350/2350 [==============================] - 2s 812us/step - loss: 24.8693 - mae: 3.7415\n",
      "Resulting Mean Squared Error: 14.74, Resulting Mean Absolute Error: 2.92 years\n"
     ]
    }
   ],
   "source": [
    "# using adam optimizer to set learning rate of the model to .01\n",
    "opt = Adam(learning_rate = 0.1)\n",
    "\n",
    "# compile the model using MSE as loss, MAE and metrics and opt (adam) as the optimizer\n",
    "my_model.compile(loss = 'mse', metrics = ['mae'], optimizer = opt)\n",
    "\n",
    "# train model by fitting with training data, training labels, 10 epochs, 1 batch and 1 verbose.\n",
    "history = my_model.fit(features_train_scaled, labels_train, epochs = 10, batch_size = 1, verbose = 1)\n",
    "\n",
    "# evaluate the model using test data and test labels and store evaluation results and mse and mae\n",
    "res_mse, res_mae = my_model.evaluate(features_test_scaled, labels_test, verbose = 0)\n",
    "\n",
    "# check predictive performance of the model on the test set\n",
    "print(f'Resulting Mean Squared Error: {round(res_mse,2)}, Resulting Mean Absolute Error: {round(res_mae,2)} years')"
   ]
  },
  {
   "attachments": {},
   "cell_type": "markdown",
   "metadata": {},
   "source": [
    "### Performance and prediction of the model\n",
    "This History dictionary contains 2 entries: one per metric that was being monitored during training. Well use Matplotlib to plot the mean squared error per epoch as well as the mean-average error per epoch for. This will give an insight into how the model performs better over time.\n",
    "\n",
    "Finally, lets use this model to make a few life expectancy predictions based on testing data that it has never seen before. We will compare these predictions with the actual targets to get an idea how close the prediction was."
   ]
  },
  {
   "cell_type": "code",
   "execution_count": 5,
   "metadata": {},
   "outputs": [
    {
     "name": "stdout",
     "output_type": "stream",
     "text": [
      "dict_keys(['loss', 'mae'])\n"
     ]
    },
    {
     "data": {
      "image/png": "[encoded data removed]",
      "text/plain": [
       "<Figure size 640x480 with 1 Axes>"
      ]
     },
     "metadata": {},
     "output_type": "display_data"
    },
    {
     "data": {
      "image/png": "[encoded data removed]",
      "text/plain": [
       "<Figure size 640x480 with 1 Axes>"
      ]
     },
     "metadata": {},
     "output_type": "display_data"
    },
    {
     "name": "stdout",
     "output_type": "stream",
     "text": [
      " Scaled testing set used for prediction: \n",
      " [[-0.3334299  -0.34188905 -0.18596531 -0.91421925 -0.30625383 -0.00747402\n",
      "  -0.15549147  0.49529049 -0.19681551  0.01050036 -0.88923314 -3.1367634\n",
      "  -0.32041759 -0.36198552  0.19148836  0.36916681  0.33177057  0.01166804\n",
      "  -0.1976551   0.          1.        ]\n",
      " [-0.3334299  -0.42186349 -0.25751384  1.86925981  0.42778927  0.38771501\n",
      "  -0.20002355  0.97623163 -0.26221474  0.56838893  0.42681385  0.57139323\n",
      "  -0.32041759  0.36242788 -0.19771896 -0.68101562 -0.67739751  0.73963\n",
      "   0.57075657  1.          0.        ]\n",
      " [-0.11655742 -0.32589416 -0.25751384  0.11356629 -0.02151544 -3.25680611\n",
      "  -0.20010986  0.9311434  -0.26221474  0.39673091  0.33963093  0.40284065\n",
      "  -0.32041759 -0.04547819 -0.18505514 -0.61252546 -0.58769368  0.63563544\n",
      "   0.47854717  0.          1.        ]]\n",
      " Life expectancy prediction based on the testing set: \n",
      " [[67.311386]\n",
      " [78.19235 ]\n",
      " [73.53831 ]]\n",
      " Actual Life expectancy from the testing set: \n",
      " 2546    73.7\n",
      "650     75.9\n",
      "1740    74.2\n",
      "Name: Life expectancy, dtype: float64\n"
     ]
    }
   ],
   "source": [
    "# print the different keys of our model that we can plot\n",
    "print(history.history.keys())\n",
    "\n",
    "plt.plot(history.history['mae'])\n",
    "plt.title('Mean Absolute Error')\n",
    "plt.ylabel('MAE')\n",
    "plt.xlabel('epoch')\n",
    "plt.show()\n",
    "plt.close()\n",
    "\n",
    "plt.plot(history.history['loss'])\n",
    "plt.title('Mean Squared Error')\n",
    "plt.ylabel('MSE')\n",
    "plt.xlabel('epoch')\n",
    "plt.show()\n",
    "\n",
    "# set the first 3 scaled test records as test\n",
    "test = features_test_scaled[:3]\n",
    "print(f' Scaled testing set used for prediction: \\n {test}')\n",
    "\n",
    "# use predict function to predict results based on test\n",
    "result = my_model.predict(test)\n",
    "print(f' Life expectancy prediction based on the testing set: \\n {result}')\n",
    "print(f' Actual Life expectancy from the testing set: \\n {labels_test[:3]}')"
   ]
  },
  {
   "attachments": {},
   "cell_type": "markdown",
   "metadata": {},
   "source": [
    "### Conclusion\n",
    "In our project, we created a deep learning neural network model that Deep attempts to mimic the human brain through a combination of nodes of data inputs, weights, and bias. These all work together to recognize and classify objects within the data using multiple layers of nodes to optimize the prediction. Then, through the processes of gradient descent and backpropagation, the deep learning algorithm adjusts and fits itself for accuracy allowing it to make predictions about a life expectancy based on numerous standardized fields such as vaccinations or schooling. Models like this can eventually inform and bring insights to countries and governments ways to improve the life expectancy of their populations. "
   ]
  }
 ],
 "metadata": {
  "kernelspec": {
   "display_name": "base",
   "language": "python",
   "name": "python3"
  },
  "language_info": {
   "codemirror_mode": {
    "name": "ipython",
    "version": 3
   },
   "file_extension": ".py",
   "mimetype": "text/x-python",
   "name": "python",
   "nbconvert_exporter": "python",
   "pygments_lexer": "ipython3",
   "version": "3.9.15 (main, Nov 24 2022, 14:39:17) [MSC v.1916 64 bit (AMD64)]"
  },
  "orig_nbformat": 4,
  "vscode": {
   "interpreter": {
    "hash": "9a097ae69bf4a985c19c38f06c65fd2204cb6f6ce7e827302b93de2cb73475cc"
   }
  }
 },
 "nbformat": 4,
 "nbformat_minor": 2
}
